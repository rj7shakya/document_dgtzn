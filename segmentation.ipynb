{
 "cells": [
  {
   "cell_type": "code",
   "execution_count": 10,
   "metadata": {},
   "outputs": [
    {
     "data": {
      "text/plain": [
       "True"
      ]
     },
     "execution_count": 10,
     "metadata": {},
     "output_type": "execute_result"
    }
   ],
   "source": [
    "##horizontal line cancellation using bitwise_ method\n",
    "# main\n",
    "# min\n",
    "# main\n",
    "# mdsknfs\n",
    "# sdfsdf\n",
    "# sdf\n",
    "\n",
    "\n",
    "import cv2\n",
    "import numpy as np\n",
    "\n",
    "img = cv2.imread(\"hand21.jpg\", 0)\n",
    "\n",
    "if len(img.shape) != 2:\n",
    "    gray = cv2.cvtColor(img, cv2.COLOR_BGR2GRAY)\n",
    "else:\n",
    "    gray = img\n",
    "\n",
    "gray = cv2.bitwise_not(gray)\n",
    "bw = cv2.adaptiveThreshold(gray, 255, cv2.ADAPTIVE_THRESH_MEAN_C, \n",
    "cv2.THRESH_BINARY, 15, -2)\n",
    "\n",
    "horizontal = np.copy(bw)\n",
    "\n",
    "cols = horizontal.shape[1]\n",
    "horizontal_size = cols // 5\n",
    "\n",
    "horizontalStructure = cv2.getStructuringElement(cv2.MORPH_RECT, (horizontal_size, 1))\n",
    "\n",
    "horizontal = cv2.erode(horizontal, horizontalStructure)\n",
    "horizontal = cv2.dilate(horizontal, horizontalStructure)\n",
    "\n",
    "cv2.imwrite(\"horizontal_lines_extracted.png\", horizontal)\n",
    "\n",
    "horizontal_inv = cv2.bitwise_not(horizontal)\n",
    "cv2.imwrite(\"inverse_extracted.png\", horizontal_inv)\n",
    "\n",
    "masked_img = cv2.bitwise_and(gray, gray, mask=horizontal_inv)\n",
    "masked_img_inv = cv2.bitwise_not(masked_img)\n",
    "\n",
    "cv2.imwrite(\"hand_nep.jpg\", masked_img_inv)"
   ]
  },
  {
   "cell_type": "code",
   "execution_count": null,
   "metadata": {},
   "outputs": [],
   "source": []
  },
  {
   "cell_type": "code",
   "execution_count": null,
   "metadata": {},
   "outputs": [],
   "source": [
    "### Croping the selected character\n",
    "import cv2\n",
    "import numpy as np\n",
    "from matplotlib import pyplot as plt\n",
    "\n",
    "img_rgb = cv2.imread('sob.jpg')\n",
    "img_gray = cv2.cvtColor(img_rgb, cv2.COLOR_BGR2GRAY)\n",
    "template = cv2.imread('ta.jpg',0)\n",
    "w, h = template.shape[::-1]\n",
    "\n",
    "res = cv2.matchTemplate(img_gray,template,cv2.TM_CCOEFF_NORMED)\n",
    "threshold = 0.8\n",
    "loc = np.where( res >= threshold)\n",
    "for pt in zip(*loc[::-1]):\n",
    "    cv2.rectangle(img_rgb, pt, (pt[0] + w, pt[1] + h), (255,0,0), 1)\n",
    "    print(pt[1] + h)  ##upper limt of height\n",
    "    print(pt[1])      ##lowre limit of height\n",
    "img_rgb=img_rgb[pt[1]:pt[1] + h,pt[0]:pt[0] + w]\n",
    "cv2.imwrite('res.png',img_rgb)\n",
    "plt.imshow(img_rgb)"
   ]
  },
  {
   "cell_type": "code",
   "execution_count": null,
   "metadata": {},
   "outputs": [],
   "source": [
    "## segmentation of image\n",
    "import cv2\n",
    "import numpy as np\n",
    "#read image\n",
    "img = cv2.imread('c.jpg')\n",
    "\n",
    "#grayscale\n",
    "gray = cv2.cvtColor(img,cv2.COLOR_BGR2GRAY)\n",
    "cv2.waitKey(0)\n",
    "\n",
    "#binarize \n",
    "ret,thresh = cv2.threshold(gray,127,255,cv2.THRESH_BINARY_INV)\n",
    "\n",
    "cv2.waitKey(0)\n",
    "\n",
    "#find contours\n",
    "ctrs, new__ = cv2.findContours(thresh.copy(), cv2.RETR_EXTERNAL, \n",
    "cv2.CHAIN_APPROX_SIMPLE)\n",
    "\n",
    "#sort contours\n",
    "sorted_ctrs = sorted(ctrs, key=lambda ctr: cv2.boundingRect(ctr)[0])\n",
    "\n",
    "for i, ctr in enumerate(sorted_ctrs):\n",
    "    # Get bounding box\n",
    "    x, y, w, h = cv2.boundingRect(ctr)\n",
    "\n",
    "    # Getting ROI\n",
    "#     roi = img[y:y+h, x:x+w]\n",
    "\n",
    "    # show ROI\n",
    "    #cv2.imwrite('roi_imgs.png', roi)\n",
    "#     cv2.imshow('charachter'+str(i), roi)\n",
    "    cv2.rectangle(img,(x,y),( x + w, y + h ),(90,0,255),2)\n",
    "    cv2.waitKey(0)\n",
    "\n",
    "cv2.imshow('marked areas',img)\n",
    "cv2.waitKey(0)\n"
   ]
  },
  {
   "cell_type": "code",
   "execution_count": null,
   "metadata": {},
   "outputs": [],
   "source": [
    "## segmentation of image test above\n",
    "import cv2\n",
    "import numpy as np\n",
    "from matplotlib import pyplot as plt\n",
    "#read image\n",
    "img = cv2.imread('masked_img.jpg')\n",
    "\n",
    "#grayscale\n",
    "gray = cv2.cvtColor(img,cv2.COLOR_BGR2GRAY)\n",
    "cv2.waitKey(0)\n",
    "\n",
    "# Taking a matrix of size 5 as the kernel \n",
    "kernel = np.ones((5,5), np.uint8) \n",
    "\n",
    "#binarize \n",
    "ret,thresh = cv2.threshold(gray,127,255,cv2.THRESH_BINARY_INV)\n",
    "\n",
    "\n",
    "threh=cv2.erode(thresh,kernel,iterations=1)\n",
    "cv2.waitKey(0)\n",
    "\n",
    "#find contours\n",
    "ctrs, new__ = cv2.findContours(thresh.copy(), cv2.RETR_EXTERNAL, \n",
    "cv2.CHAIN_APPROX_SIMPLE)\n",
    "\n",
    "#sort contours\n",
    "sorted_ctrs = sorted(ctrs, key=lambda ctr: cv2.boundingRect(ctr)[0])\n",
    "\n",
    "for i, ctr in enumerate(sorted_ctrs):\n",
    "    # Get bounding box\n",
    "    x, y, w, h = cv2.boundingRect(ctr)\n",
    "\n",
    "    # Getting ROI\n",
    "#     roi = img[y:y+h, x:x+w]\n",
    "\n",
    "    # show ROI\n",
    "    #cv2.imwrite('roi_imgs.png', roi)\n",
    "#     cv2.imshow('charachter'+str(i), roi)\n",
    "    cv2.rectangle(img,(x,y),( x + w, y + h ),(90,0,255),2)\n",
    "    cv2.waitKey(0)\n",
    "\n",
    "cv2.imshow('marked areas',img)\n",
    "plt.imshow(img)\n",
    "# print(ret)\n",
    "# print(\"thresh\",thresh)\n",
    "cv2.waitKey(0)\n"
   ]
  },
  {
   "cell_type": "code",
   "execution_count": null,
   "metadata": {},
   "outputs": [],
   "source": [
    "pip install matplotlib.pyplot"
   ]
  },
  {
   "cell_type": "code",
   "execution_count": null,
   "metadata": {},
   "outputs": [],
   "source": [
    "import matplotlib.pyplot as plt"
   ]
  },
  {
   "cell_type": "code",
   "execution_count": null,
   "metadata": {},
   "outputs": [],
   "source": []
  }
 ],
 "metadata": {
  "kernelspec": {
   "display_name": "Python 3",
   "language": "python",
   "name": "python3"
  },
  "language_info": {
   "codemirror_mode": {
    "name": "ipython",
    "version": 3
   },
   "file_extension": ".py",
   "mimetype": "text/x-python",
   "name": "python",
   "nbconvert_exporter": "python",
   "pygments_lexer": "ipython3",
   "version": "3.6.5"
  }
 },
 "nbformat": 4,
 "nbformat_minor": 2
}
