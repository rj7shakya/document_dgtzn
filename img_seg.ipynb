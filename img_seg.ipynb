{
 "cells": [
  {
   "cell_type": "code",
   "execution_count": 1,
   "metadata": {},
   "outputs": [
    {
     "name": "stdout",
     "output_type": "stream",
     "text": [
      "[[255 255 255 ... 255 255 255]\n",
      " [255 255 255 ... 255 255 255]\n",
      " [255 255 255 ... 255 255 255]\n",
      " ...\n",
      " [  0   0   0 ... 255 255 255]\n",
      " [  0   0   0 ... 255 255 255]\n",
      " [  0   0   0 ... 255 255 255]]\n"
     ]
    }
   ],
   "source": [
    "## Image segmentaion using projection method\n",
    "\n",
    "import cv2\n",
    "import numpy as np\n",
    "import matplotlib.pyplot as plt\n",
    "# Load as greyscale\n",
    "im = cv2.imread('nep.jpg', cv2.IMREAD_GRAYSCALE)\n",
    "(thresh, im) = cv2.threshold(im, 128, 255, cv2.THRESH_BINARY | cv2.THRESH_OTSU)\n",
    "print(im)\n",
    "# Invert\n",
    "# im = 255 - im\n",
    "count=0\n",
    "# Calculate horizontal projection\n",
    "proj = np.sum(im,1)\n",
    "\n",
    "# Create output image same height as text, 500 px wide\n",
    "# m = np.max(proj)\n",
    "# w = 500\n",
    "result = np.zeros((proj.shape[0],500))\n",
    "\n",
    "# Draw a line for each row\n",
    "# for row in range(im.shape[0]):\n",
    "#     cv2.line(result, (0,row), (int(proj[row]*w/m),row), (255,255,255), 1)\n",
    "# print(proj)\n",
    "for i in proj:\n",
    "    count+=1\n",
    "\n",
    "    if i>(np.max(proj)-500):\n",
    "        cv2.line(im, (0, count), (400, count), (0,255,0), 2)\n",
    "        cv2.imwrite('result.png', im)\n",
    "        plt.imshow(im)\n",
    "# Save result\n",
    "\n",
    "# print(count)\n",
    "# print(np.max(proj))\n",
    "# print(im.size)"
   ]
  },
  {
   "cell_type": "code",
   "execution_count": null,
   "metadata": {},
   "outputs": [],
   "source": []
  }
 ],
 "metadata": {
  "kernelspec": {
   "display_name": "Python 3",
   "language": "python",
   "name": "python3"
  },
  "language_info": {
   "codemirror_mode": {
    "name": "ipython",
    "version": 3
   },
   "file_extension": ".py",
   "mimetype": "text/x-python",
   "name": "python",
   "nbconvert_exporter": "python",
   "pygments_lexer": "ipython3",
   "version": "3.6.5"
  }
 },
 "nbformat": 4,
 "nbformat_minor": 2
}
